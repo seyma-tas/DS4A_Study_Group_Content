{
 "cells": [
  {
   "cell_type": "markdown",
   "metadata": {},
   "source": [
    "# Python study group\n",
    "## List comprehension questions\n"
   ]
  },
  {
   "cell_type": "code",
   "execution_count": null,
   "metadata": {},
   "outputs": [],
   "source": []
  },
  {
   "cell_type": "markdown",
   "metadata": {},
   "source": [
    "### Question 1: Make a new list\n",
    "\n",
    "You are given list a. Create a new list b using list comprehension. \n",
    "\n",
    "    input    a = [2, 4, 6, 8, 10]\n",
    "\n",
    "    output   b = [6, 12, 18, 24, 30] \n",
    "\n"
   ]
  },
  {
   "cell_type": "code",
   "execution_count": 3,
   "metadata": {
    "ExecuteTime": {
     "end_time": "2020-11-04T16:51:39.874778Z",
     "start_time": "2020-11-04T16:51:39.869971Z"
    }
   },
   "outputs": [
    {
     "name": "stdout",
     "output_type": "stream",
     "text": [
      "[6, 12, 18, 24, 30]\n"
     ]
    }
   ],
   "source": [
    "a = [2, 4, 6, 8, 10]\n",
    "b = [x*3 for x in a]\n",
    "print(b)"
   ]
  },
  {
   "cell_type": "markdown",
   "metadata": {},
   "source": [
    "### Question 2: Iterate through a string\n",
    "\n",
    "You are given a string s. Create a list containing the letters of this string. \n",
    "        \n",
    "        input    s = \"Correlation1\"\n",
    "        \n",
    "        output   ['C','o','r','r','e','l','a','t','i','o','n','1']"
   ]
  },
  {
   "cell_type": "code",
   "execution_count": 14,
   "metadata": {
    "ExecuteTime": {
     "end_time": "2020-11-05T03:43:01.663468Z",
     "start_time": "2020-11-05T03:43:01.659732Z"
    }
   },
   "outputs": [
    {
     "name": "stdout",
     "output_type": "stream",
     "text": [
      "['C', 'o', 'r', 'r', 'e', 'l', 'a', 't', 'i', 'o', 'n', '1']\n"
     ]
    }
   ],
   "source": [
    "s = \"Correlation1\"\n",
    "list1 = []\n",
    "for letter in s:\n",
    "    list1.append(letter)\n",
    "    #print(list1)\n",
    "print(list1)"
   ]
  },
  {
   "cell_type": "code",
   "execution_count": 16,
   "metadata": {
    "ExecuteTime": {
     "end_time": "2020-11-05T03:44:03.159574Z",
     "start_time": "2020-11-05T03:44:03.155710Z"
    }
   },
   "outputs": [
    {
     "name": "stdout",
     "output_type": "stream",
     "text": [
      "['C', 'o', 'r', 'r', 'e', 'l', 'a', 't', 'i', 'o', 'n', '1']\n"
     ]
    }
   ],
   "source": [
    "list2 = [letter for letter in s]\n",
    "print(list2)"
   ]
  },
  {
   "cell_type": "markdown",
   "metadata": {
    "ExecuteTime": {
     "end_time": "2020-11-04T16:52:08.264144Z",
     "start_time": "2020-11-04T16:52:08.261569Z"
    }
   },
   "source": [
    "### Note: Range function\n",
    "\n",
    "Create a list of numbers from zero to 20 and print the list."
   ]
  },
  {
   "cell_type": "code",
   "execution_count": 17,
   "metadata": {
    "ExecuteTime": {
     "end_time": "2020-11-05T03:51:31.748579Z",
     "start_time": "2020-11-05T03:51:31.744422Z"
    }
   },
   "outputs": [
    {
     "data": {
      "text/plain": [
       "[0, 1, 2, 3, 4, 5, 6, 7, 8, 9, 10, 11, 12, 13, 14, 15, 16, 17, 18, 19, 20]"
      ]
     },
     "execution_count": 17,
     "metadata": {},
     "output_type": "execute_result"
    }
   ],
   "source": [
    "list(range(21))"
   ]
  },
  {
   "cell_type": "code",
   "execution_count": 25,
   "metadata": {
    "ExecuteTime": {
     "end_time": "2020-11-05T03:59:42.867889Z",
     "start_time": "2020-11-05T03:59:42.863640Z"
    }
   },
   "outputs": [
    {
     "data": {
      "text/plain": [
       "[10, 9, 8, 7, 6, 5, 4, 3, 2, 1]"
      ]
     },
     "execution_count": 25,
     "metadata": {},
     "output_type": "execute_result"
    }
   ],
   "source": [
    "list(range(10, 0, -1))"
   ]
  },
  {
   "cell_type": "code",
   "execution_count": 27,
   "metadata": {
    "ExecuteTime": {
     "end_time": "2020-11-05T04:00:31.240089Z",
     "start_time": "2020-11-05T04:00:31.235625Z"
    }
   },
   "outputs": [
    {
     "data": {
      "text/plain": [
       "[1, 3, 5, 7, 9]"
      ]
     },
     "execution_count": 27,
     "metadata": {},
     "output_type": "execute_result"
    }
   ],
   "source": [
    "list(range(0, 10, 2))"
   ]
  },
  {
   "cell_type": "markdown",
   "metadata": {},
   "source": [
    "### Question 3: Create a list containing the 12 first perfect squares.\n",
    "\n",
    "        output     [1,4,9,16,25,36,49,64,81,100,121,144]"
   ]
  },
  {
   "cell_type": "code",
   "execution_count": 20,
   "metadata": {
    "ExecuteTime": {
     "end_time": "2020-11-05T03:52:34.378543Z",
     "start_time": "2020-11-05T03:52:34.374233Z"
    }
   },
   "outputs": [
    {
     "data": {
      "text/plain": [
       "[1, 2, 3, 4, 5, 6, 7, 8, 9, 10, 11, 12]"
      ]
     },
     "execution_count": 20,
     "metadata": {},
     "output_type": "execute_result"
    }
   ],
   "source": [
    "list(range(1, 13))"
   ]
  },
  {
   "cell_type": "code",
   "execution_count": 28,
   "metadata": {
    "ExecuteTime": {
     "end_time": "2020-11-05T04:28:42.062533Z",
     "start_time": "2020-11-05T04:28:42.058297Z"
    }
   },
   "outputs": [
    {
     "data": {
      "text/plain": [
       "[1, 4, 9, 16, 25, 36, 49, 64, 81, 100, 121, 144]"
      ]
     },
     "execution_count": 28,
     "metadata": {},
     "output_type": "execute_result"
    }
   ],
   "source": [
    "squares = []\n",
    "for number in list(range(1,13)):\n",
    "    squares.append(number**2)\n",
    "squares"
   ]
  },
  {
   "cell_type": "code",
   "execution_count": 29,
   "metadata": {
    "ExecuteTime": {
     "end_time": "2020-11-05T04:28:49.587625Z",
     "start_time": "2020-11-05T04:28:49.583202Z"
    }
   },
   "outputs": [
    {
     "data": {
      "text/plain": [
       "[1, 4, 9, 16, 25, 36, 49, 64, 81, 100, 121, 144]"
      ]
     },
     "execution_count": 29,
     "metadata": {},
     "output_type": "execute_result"
    }
   ],
   "source": [
    "squares2 = [number**2 for number in range(1,13)]\n",
    "squares2"
   ]
  },
  {
   "cell_type": "markdown",
   "metadata": {},
   "source": [
    "### Question 4: First Letter Of Each Word\n",
    "\n",
    "Take the first letter of each word from the given list and make a list out of it. \n",
    "\n",
    "    input   ['Data', 'Science', '4', 'All']\n",
    "    \n",
    "    output  ['D', 'S', '4', 'A']"
   ]
  },
  {
   "cell_type": "code",
   "execution_count": 30,
   "metadata": {
    "ExecuteTime": {
     "end_time": "2020-11-05T04:34:14.980723Z",
     "start_time": "2020-11-05T04:34:14.977787Z"
    }
   },
   "outputs": [],
   "source": [
    "string_list = ['Data', 'Science', '4', 'All']"
   ]
  },
  {
   "cell_type": "code",
   "execution_count": 31,
   "metadata": {
    "ExecuteTime": {
     "end_time": "2020-11-05T04:34:52.817889Z",
     "start_time": "2020-11-05T04:34:52.814757Z"
    }
   },
   "outputs": [],
   "source": [
    "first_letters = [word[0] for word in string_list]"
   ]
  },
  {
   "cell_type": "code",
   "execution_count": 32,
   "metadata": {
    "ExecuteTime": {
     "end_time": "2020-11-05T04:35:07.135389Z",
     "start_time": "2020-11-05T04:35:07.132171Z"
    }
   },
   "outputs": [
    {
     "name": "stdout",
     "output_type": "stream",
     "text": [
      "['D', 'S', '4', 'A']\n"
     ]
    }
   ],
   "source": [
    "print(first_letters)"
   ]
  },
  {
   "cell_type": "markdown",
   "metadata": {},
   "source": [
    "### Question 5: Upper and Lowercase\n",
    "\n",
    "Convert uppercase to lowercase for a given list.\n",
    "\n",
    "    input ['D', 'S', '4', 'A']\n",
    "    \n",
    "    output  ['d', 's', '4', 'a']"
   ]
  },
  {
   "cell_type": "code",
   "execution_count": 33,
   "metadata": {
    "ExecuteTime": {
     "end_time": "2020-11-05T04:41:53.942122Z",
     "start_time": "2020-11-05T04:41:53.939229Z"
    }
   },
   "outputs": [],
   "source": [
    "list1 = ['D', 'S', '4', 'A']\n",
    "list2 = [i.lower() for i in list1]"
   ]
  },
  {
   "cell_type": "code",
   "execution_count": 34,
   "metadata": {
    "ExecuteTime": {
     "end_time": "2020-11-05T04:42:07.476705Z",
     "start_time": "2020-11-05T04:42:07.472802Z"
    }
   },
   "outputs": [
    {
     "data": {
      "text/plain": [
       "['d', 's', '4', 'a']"
      ]
     },
     "execution_count": 34,
     "metadata": {},
     "output_type": "execute_result"
    }
   ],
   "source": [
    "list2"
   ]
  },
  {
   "cell_type": "code",
   "execution_count": null,
   "metadata": {},
   "outputs": [],
   "source": []
  }
 ],
 "metadata": {
  "kernelspec": {
   "display_name": "Python 3",
   "language": "python",
   "name": "python3"
  },
  "language_info": {
   "codemirror_mode": {
    "name": "ipython",
    "version": 3
   },
   "file_extension": ".py",
   "mimetype": "text/x-python",
   "name": "python",
   "nbconvert_exporter": "python",
   "pygments_lexer": "ipython3",
   "version": "3.7.4"
  },
  "toc": {
   "base_numbering": 1,
   "nav_menu": {},
   "number_sections": true,
   "sideBar": true,
   "skip_h1_title": false,
   "title_cell": "Table of Contents",
   "title_sidebar": "Contents",
   "toc_cell": false,
   "toc_position": {},
   "toc_section_display": true,
   "toc_window_display": false
  },
  "varInspector": {
   "cols": {
    "lenName": 16,
    "lenType": 16,
    "lenVar": 40
   },
   "kernels_config": {
    "python": {
     "delete_cmd_postfix": "",
     "delete_cmd_prefix": "del ",
     "library": "var_list.py",
     "varRefreshCmd": "print(var_dic_list())"
    },
    "r": {
     "delete_cmd_postfix": ") ",
     "delete_cmd_prefix": "rm(",
     "library": "var_list.r",
     "varRefreshCmd": "cat(var_dic_list()) "
    }
   },
   "types_to_exclude": [
    "module",
    "function",
    "builtin_function_or_method",
    "instance",
    "_Feature"
   ],
   "window_display": true
  }
 },
 "nbformat": 4,
 "nbformat_minor": 2
}
